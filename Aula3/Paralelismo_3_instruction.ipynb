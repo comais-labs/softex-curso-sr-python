{
 "cells": [
  {
   "cell_type": "markdown",
   "metadata": {},
   "source": [
    "# Paralelismo a Nível de Instrução (Instruction Level Parallelism - ILP)"
   ]
  },
  {
   "cell_type": "markdown",
   "metadata": {},
   "source": [
    "O Paralelismo a Nível de Instrução (ILP) refere-se à capacidade de uma CPU de executar várias instruções de um único thread de execução simultaneamente. ILP é uma característica intrínseca dos processadores modernos e é gerenciado automaticamente pelo hardware e pelo compilador. Portanto, ao escrever código Python, você não especifica explicitamente o ILP, mas pode escrever código que é otimizado para tirar proveito do ILP.\n",
    "\n",
    "No contexto de MLOps, o ILP é mais relevante quando se considera a otimização de operações de baixo nível, como operações matriciais. Bibliotecas como NumPy, TensorFlow e PyTorch são otimizadas para aproveitar o ILP.\n",
    "\n",
    "### Exemplo: Multiplicação Matricial com NumPy\n"
   ]
  },
  {
   "cell_type": "code",
   "execution_count": null,
   "metadata": {},
   "outputs": [],
   "source": [
    "import numpy as np\n",
    "import time\n",
    "\n",
    "# Gerar duas matrizes grandes\n",
    "A = np.random.rand(1000, 1000)\n",
    "B = np.random.rand(1000, 1000)\n",
    "\n",
    "# Multiplicação matricial\n",
    "start_time = time.time()\n",
    "result = np.dot(A, B)\n",
    "end_time = time.time()\n",
    "\n",
    "print(f\"Multiplication completed in {end_time - start_time:.4f} seconds.\")\n"
   ]
  },
  {
   "cell_type": "markdown",
   "metadata": {},
   "source": [
    "\n",
    "Neste exemplo, a multiplicação matricial com NumPy é uma operação que pode se beneficiar do ILP. As CPUs modernas podem executar várias operações de multiplicação e adição simultaneamente, acelerando a operação geral.\n"
   ]
  }
 ],
 "metadata": {
  "kernelspec": {
   "display_name": "gpuTorch",
   "language": "python",
   "name": "python3"
  },
  "language_info": {
   "codemirror_mode": {
    "name": "ipython",
    "version": 3
   },
   "file_extension": ".py",
   "mimetype": "text/x-python",
   "name": "python",
   "nbconvert_exporter": "python",
   "pygments_lexer": "ipython3",
   "version": "3.11.4"
  },
  "orig_nbformat": 4
 },
 "nbformat": 4,
 "nbformat_minor": 2
}
