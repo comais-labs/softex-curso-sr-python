{
 "cells": [
  {
   "cell_type": "markdown",
   "metadata": {},
   "source": [
    "# Concorrência Baseada em Eventos"
   ]
  },
  {
   "cell_type": "markdown",
   "metadata": {},
   "source": [
    "Para demonstrar a concorrência baseada em eventos no contexto de MLOps dentro de um Jupyter Notebook, podemos usar a combinação de `asyncio` com `IPython`. Embora `asyncio` seja frequentemente associado à concorrência assíncrona, ele também suporta um modelo orientado a eventos por meio de seu loop de eventos.\n",
    "\n",
    "Vamos criar um exemplo simples onde temos um \"servidor\" que escuta solicitações de previsão e responde com os resultados do modelo. Cada solicitação e resposta são tratadas como eventos. Usaremos uma fila para simular as solicitações de entrada e o loop de eventos para processá-las.\n",
    "\n",
    "Neste exemplo:\n",
    "\n",
    "- A função `predict` simula um modelo de previsão.\n",
    "- A função `handle_request` escuta a fila de solicitações e processa cada solicitação como um evento.\n",
    "- A função `generate_requests` simula a chegada de novas solicitações ao servidor.\n",
    "\n",
    "Ao executar o código em um Jupyter Notebook, você verá mensagens indicando a chegada de novas solicitações e as respostas do \"servidor\". Cada solicitação e resposta é tratada como um evento, demonstrando a concorrência baseada em eventos.\n",
    "\n",
    "\n",
    "\n",
    "# Concorrência Baseada em Eventos"
   ]
  },
  {
   "cell_type": "code",
   "execution_count": null,
   "metadata": {},
   "outputs": [],
   "source": [
    "import asyncio\n",
    "from IPython.display import display, HTML\n",
    "\n",
    "# Simulando um modelo de previsão\n",
    "def predict(data):\n",
    "    # Em um cenário real, você chamaria seu modelo de ML aqui\n",
    "    # Para este exemplo, estamos apenas retornando um valor fixo\n",
    "    return f\"Predicted value for {data}: 123\"\n",
    "\n",
    "# Função assíncrona para processar solicitações\n",
    "async def handle_request(queue):\n",
    "    while True:\n",
    "        if not queue.empty():\n",
    "            data = await queue.get()\n",
    "            result = predict(data)\n",
    "            display(HTML(f\"<span style='color: blue;'>{result}</span>\"))\n",
    "        await asyncio.sleep(1)  # Simulando algum tempo de processamento\n",
    "\n",
    "# Função assíncrona para simular a chegada de novas solicitações\n",
    "async def generate_requests(queue, n=5):\n",
    "    for i in range(n):\n",
    "        await asyncio.sleep(2)  # Espera antes de gerar a próxima solicitação\n",
    "        display(HTML(f\"<span style='color: green;'>Received request {i}</span>\"))\n",
    "        await queue.put(f\"request {i}\")\n",
    "\n",
    "# Criando a fila de solicitações\n",
    "queue = asyncio.Queue()\n",
    "\n",
    "# Iniciando as tarefas assíncronas\n",
    "async def main():\n",
    "    # Iniciando a tarefa de processamento de solicitações\n",
    "    asyncio.create_task(handle_request(queue))\n",
    "    \n",
    "    # Simulando a chegada de novas solicitações\n",
    "    await generate_requests(queue)\n",
    "\n",
    "# Executando o loop assíncrono\n",
    "await main()\n"
   ]
  }
 ],
 "metadata": {
  "kernelspec": {
   "display_name": "gpuTorch",
   "language": "python",
   "name": "python3"
  },
  "language_info": {
   "codemirror_mode": {
    "name": "ipython",
    "version": 3
   },
   "file_extension": ".py",
   "mimetype": "text/x-python",
   "name": "python",
   "nbconvert_exporter": "python",
   "pygments_lexer": "ipython3",
   "version": "3.11.4"
  },
  "orig_nbformat": 4
 },
 "nbformat": 4,
 "nbformat_minor": 2
}
