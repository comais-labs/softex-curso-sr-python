{
 "cells": [
  {
   "cell_type": "markdown",
   "metadata": {},
   "source": [
    "# Paralelismo a Nível de Tarefa (Task Parallelism)"
   ]
  },
  {
   "cell_type": "markdown",
   "metadata": {},
   "source": [
    "O paralelismo a nível de tarefa, ou \"Task Parallelism\", refere-se à execução de tarefas diferentes (ou funções) em paralelo. No contexto de MLOps, isso pode ser usado para, por exemplo, treinar vários modelos diferentes ao mesmo tempo, realizar validação cruzada em paralelo ou executar etapas de pré-processamento de dados simultaneamente.\n",
    "\n",
    "Vamos criar um exemplo simples usando a biblioteca `concurrent.futures` do Python para demonstrar o paralelismo a nível de tarefa. Neste exemplo, vamos simular o treinamento de três modelos diferentes em paralelo.\n",
    "\n",
    "Neste exemplo:\n",
    "\n",
    "1. Geramos um conjunto de dados sintético usando `make_regression`.\n",
    "2. Definimos três funções de treinamento para treinar modelos de regressão linear, ridge e lasso.\n",
    "3. Usamos `ProcessPoolExecutor` para treinar os três modelos em paralelo.\n",
    "4. Exibimos os coeficientes dos modelos treinados.\n",
    "\n",
    "Ao executar este código, você verá que os três modelos são treinados simultaneamente, demonstrando o conceito de paralelismo a nível de tarefa.\n",
    "\n",
    "### Exemplo: Treinamento de Vários Modelos Usando Task Parallelism"
   ]
  },
  {
   "cell_type": "code",
   "execution_count": 22,
   "metadata": {},
   "outputs": [],
   "source": [
    "# Código no arquivo: Paralelismo_2_tasks.py"
   ]
  }
 ],
 "metadata": {
  "kernelspec": {
   "display_name": "gpuTorch",
   "language": "python",
   "name": "python3"
  },
  "language_info": {
   "codemirror_mode": {
    "name": "ipython",
    "version": 3
   },
   "file_extension": ".py",
   "mimetype": "text/x-python",
   "name": "python",
   "nbconvert_exporter": "python",
   "pygments_lexer": "ipython3",
   "version": "3.11.4"
  },
  "orig_nbformat": 4
 },
 "nbformat": 4,
 "nbformat_minor": 2
}
