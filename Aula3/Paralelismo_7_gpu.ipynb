{
 "cells": [
  {
   "cell_type": "markdown",
   "metadata": {},
   "source": [
    "# Paralelismo de GPU"
   ]
  },
  {
   "cell_type": "markdown",
   "metadata": {},
   "source": [
    "O Paralelismo de GPU refere-se à capacidade de executar operações em paralelo em uma GPU, aproveitando sua arquitetura altamente paralela. No contexto de MLOps e aprendizado profundo, isso geralmente se refere ao treinamento ou inferência de modelos em uma ou mais GPUs.\n",
    "\n",
    "O PyTorch é uma das bibliotecas mais populares que suporta paralelismo de GPU. Vamos criar um exemplo simples usando o PyTorch para demonstrar o paralelismo de GPU.\n",
    "\n",
    "### Exemplo: Treinamento de Modelo com Paralelismo de GPU usando PyTorch\n"
   ]
  },
  {
   "cell_type": "code",
   "execution_count": null,
   "metadata": {},
   "outputs": [],
   "source": [
    "import torch\n",
    "import torch.nn as nn\n",
    "import torch.optim as optim\n",
    "\n",
    "# Verificar a disponibilidade de GPU\n",
    "device = torch.device(\"cuda:0\" if torch.cuda.is_available() else \"cpu\")\n",
    "print(f\"Using device: {device}\")\n",
    "\n",
    "# Modelo de rede neural simples\n",
    "class SimpleNN(nn.Module):\n",
    "    def __init__(self):\n",
    "        super(SimpleNN, self).__init__()\n",
    "        self.layer = nn.Sequential(\n",
    "            nn.Linear(10, 50),\n",
    "            nn.ReLU(),\n",
    "            nn.Linear(50, 1)\n",
    "        )\n",
    "\n",
    "    def forward(self, x):\n",
    "        return self.layer(x)\n",
    "\n",
    "# Criando dados sintéticos\n",
    "X = torch.rand(1000, 10).to(device)\n",
    "y = (X.sum(dim=1) + torch.randn(1000) * 0.1).to(device)  # Alvo é a soma das características mais algum ruído\n",
    "\n",
    "# Inicializando modelo, critério e otimizador\n",
    "model = SimpleNN().to(device)\n",
    "criterion = nn.MSELoss().to(device)\n",
    "optimizer = optim.Adam(model.parameters(), lr=0.01)\n",
    "\n",
    "# Treinamento\n",
    "num_epochs = 100\n",
    "for epoch in range(num_epochs):\n",
    "    # Forward pass\n",
    "    outputs = model(X)\n",
    "    loss = criterion(outputs.squeeze(), y)\n",
    "    \n",
    "    # Backward pass and optimization\n",
    "    optimizer.zero_grad()\n",
    "    loss.backward()\n",
    "    optimizer.step()\n",
    "    \n",
    "    if (epoch+1) % 20 == 0:\n",
    "        print(f\"Epoch [{epoch+1}/{num_epochs}], Loss: {loss.item():.4f}\")\n",
    "\n",
    "print(\"Training complete!\")\n"
   ]
  },
  {
   "cell_type": "markdown",
   "metadata": {},
   "source": [
    "Neste exemplo:\n",
    "\n",
    "1. Verificamos a disponibilidade de uma GPU e definimos o dispositivo de computação (`device`) como GPU ou CPU, dependendo da disponibilidade.\n",
    "2. Criamos um modelo simples de rede neural e movemos o modelo para o dispositivo de computação escolhido usando `.to(device)`.\n",
    "3. Geramos dados sintéticos e os movemos para o dispositivo de computação.\n",
    "4. Treinamos o modelo na GPU (ou CPU, se nenhuma GPU estiver disponível).\n",
    "\n",
    "Ao executar este código em um Jupyter Notebook, o PyTorch irá treinar o modelo na GPU, se disponível, aproveitando o paralelismo de GPU para acelerar o treinamento. Se você tiver várias GPUs e quiser treinar o modelo em todas elas simultaneamente, pode usar técnicas como \"Data Parallelism\" ou \"Model Parallelism\" para distribuir o treinamento entre as GPUs."
   ]
  }
 ],
 "metadata": {
  "kernelspec": {
   "display_name": "gpuTorch",
   "language": "python",
   "name": "python3"
  },
  "language_info": {
   "name": "python",
   "version": "3.11.4"
  },
  "orig_nbformat": 4
 },
 "nbformat": 4,
 "nbformat_minor": 2
}
