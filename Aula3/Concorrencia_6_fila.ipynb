{
 "cells": [
  {
   "cell_type": "markdown",
   "metadata": {},
   "source": [
    "# Concorrência Baseada em Filas"
   ]
  },
  {
   "cell_type": "markdown",
   "metadata": {},
   "source": [
    "A concorrência baseada em filas refere-se ao uso de sistemas de filas para gerenciar e processar tarefas em paralelo. Nesse modelo, as tarefas são adicionadas a uma fila e são processadas por workers conforme eles ficam disponíveis. RabbitMQ, Kafka e SQS da AWS são exemplos de sistemas de filas, mas para simplificar, vamos usar a biblioteca `queue` do Python padrão juntamente com `threading` para simular um sistema de filas em um Jupyter Notebook.\n",
    "\n",
    "No contexto de MLOps, a concorrência baseada em filas pode ser usada para treinar modelos, executar inferências, processar dados e muito mais, tudo de forma assíncrona e escalável.\n",
    "\n",
    "### Exemplo: Treinamento de Modelos Usando uma Fila\n",
    "\n",
    "Vamos criar um exemplo onde temos uma fila de conjuntos de dados e vários workers que retiram dados da fila para treinar modelos de regressão linear.\n",
    "\n",
    "No exemplo a seguir:\n",
    "\n",
    "- A função `generate_data` cria conjuntos de dados aleatórios (sintéticos).\n",
    "- A função `worker` representa um worker que retira dados da fila e treina um modelo.\n",
    "- Criamos uma fila usando `queue.Queue()` e adicionamos vários conjuntos de dados.\n",
    "- Iniciamos vários workers usando threading. Cada worker retira um conjunto de dados da fila, treina um modelo e, em seguida, retira o próximo conjunto de dados.\n",
    "- Finalmente, enviamos um sinal (um valor `None`) para cada worker parar após processar todos os dados.\n",
    "\n",
    "Este é um exemplo básico para demonstrar o conceito de concorrência baseada em filas. Em cenários reais de MLOps, você pode usar sistemas de filas mais robustos e escaláveis, como RabbitMQ ou Kafka, para gerenciar tarefas de forma assíncrona em clusters distribuídos.\n",
    "\n",
    "# Concorrência Baseada em Filas"
   ]
  },
  {
   "cell_type": "code",
   "execution_count": null,
   "metadata": {},
   "outputs": [],
   "source": [
    "import numpy as np\n",
    "from sklearn.linear_model import LinearRegression\n",
    "import threading\n",
    "import queue\n",
    "import time\n",
    "\n",
    "# Função para gerar dados aleatórios\n",
    "def generate_data(n_samples=100):\n",
    "    X = np.random.rand(n_samples, 1) * 10\n",
    "    y = 2.5 * X + np.random.randn(n_samples, 1) * 2\n",
    "    return X, y\n",
    "\n",
    "# Função worker para treinar modelos\n",
    "def worker(q, worker_id):\n",
    "    while True:\n",
    "        data = q.get()\n",
    "        if data is None:  # Um sinal para o worker parar\n",
    "            break\n",
    "        X, y = data\n",
    "        model = LinearRegression().fit(X, y)\n",
    "        print(f\"\\nWorker-{worker_id} trained a model with coefficient: {model.coef_[0][0]}\")\n",
    "        time.sleep(2)  # Simulando algum tempo de processamento\n",
    "\n",
    "# Criando uma fila e adicionando dados\n",
    "data_queue = queue.Queue()\n",
    "for _ in range(10):\n",
    "    data_queue.put(generate_data())\n",
    "\n",
    "# Iniciando workers\n",
    "num_workers = 3\n",
    "threads = []\n",
    "for i in range(num_workers):\n",
    "    t = threading.Thread(target=worker, args=(data_queue, i))\n",
    "    t.start()\n",
    "    threads.append(t)\n",
    "\n",
    "# Aguardando os workers processarem todos os dados\n",
    "for _ in range(num_workers):\n",
    "    data_queue.put(None)  # Sinalizando para os workers pararem\n",
    "for t in threads:\n",
    "    t.join()\n",
    "\n",
    "print(\"Todos os modelos foram treinados!\")\n"
   ]
  }
 ],
 "metadata": {
  "kernelspec": {
   "display_name": "gpuTorch",
   "language": "python",
   "name": "python3"
  },
  "language_info": {
   "codemirror_mode": {
    "name": "ipython",
    "version": 3
   },
   "file_extension": ".py",
   "mimetype": "text/x-python",
   "name": "python",
   "nbconvert_exporter": "python",
   "pygments_lexer": "ipython3",
   "version": "3.11.4"
  },
  "orig_nbformat": 4
 },
 "nbformat": 4,
 "nbformat_minor": 2
}
