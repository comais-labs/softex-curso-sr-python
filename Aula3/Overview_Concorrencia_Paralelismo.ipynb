{
 "cells": [
  {
   "cell_type": "markdown",
   "metadata": {},
   "source": [
    "# Visão Geral sobre Concorrência e Paralelismo\n"
   ]
  },
  {
   "cell_type": "markdown",
   "metadata": {},
   "source": [
    "**Concorrência** e **Paralelismo** são conceitos fundamentais em computação que se referem à execução de múltiplas tarefas. \n",
    "\n",
    "- **Concorrência**: Refere-se à capacidade de um sistema de gerenciar a execução de duas ou mais tarefas em um único processador, mesmo que não sejam executadas simultaneamente.\n",
    "  \n",
    "- **Paralelismo**: Envolve a execução simultânea de duas ou mais tarefas em dois ou mais processadores.\n",
    "\n",
    "--- \n",
    "\n",
    "Dentro desses conceitos, temos **threads** e **processos**:\n",
    "\n",
    "- **Threads**: São fluxos de execução individuais que existem dentro de um processo. Elas compartilham o mesmo espaço de memória do processo ao qual pertencem, tornando-as mais leves e rápidas para criar, terminar e trocar de contexto. No entanto, isso também as torna mais desafiadoras para programar, depurar e manter. Além disso, são mais eficientes em termos de memória.\n",
    "\n",
    "- **Processos**: São instâncias independentes de programas em execução, cada uma com seu próprio espaço de memória. Isso os torna mais lentos para criar, terminar e trocar de contexto em comparação com threads. No entanto, são geralmente mais simples de programar, depurar e manter. Em termos de eficiência de memória, eles são menos eficientes do que threads.\n",
    "\n",
    "--- \n",
    "\n",
    "**Multiprocessamento** e **Multithreading** são técnicas que permitem a execução concorrente:\n",
    "\n",
    "- **Multiprocessamento (ou Multiprocessing)**: É a capacidade de um sistema de executar múltiplos processos simultaneamente. A comunicação entre processos é mais desafiadora, pois eles não compartilham o mesmo espaço de memória. Para superar isso, são usados mecanismos de IPC (Inter Process Communication), como sockets, pipes e filas. A passagem de parâmetros entre processos geralmente ocorre no momento da criação do processo, mas ainda assim, mecanismos de IPC são frequentemente necessários para a comunicação contínua.\n",
    "\n",
    "- **Multithreading**: Refere-se à capacidade de um sistema de gerenciar e executar múltiplas threads simultaneamente dentro de um único processo.\n",
    "\n",
    "---\n",
    "\n",
    "Em resumo, enquanto a concorrência se concentra no gerenciamento eficaz de múltiplas tarefas, o paralelismo busca a execução simultânea dessas tarefas para melhorar o desempenho e a eficiência.\n",
    "\n",
    "![Concorrência e Paralelismo](https://camo.githubusercontent.com/79d524bd2a300609b5bb735cc4549396dfaeb5634c740a31b0043c90a5db407f/687474703a2f2f796f7365666b2e636f6d2f696d672f6e2f636f6e63757272656e63792d63656e747269632e706e67)"
   ]
  }
 ],
 "metadata": {
  "kernelspec": {
   "display_name": "gpuTorch",
   "language": "python",
   "name": "python3"
  },
  "language_info": {
   "codemirror_mode": {
    "name": "ipython",
    "version": 3
   },
   "file_extension": ".py",
   "mimetype": "text/x-python",
   "name": "python",
   "nbconvert_exporter": "python",
   "pygments_lexer": "ipython3",
   "version": "3.11.4"
  },
  "orig_nbformat": 4
 },
 "nbformat": 4,
 "nbformat_minor": 2
}
