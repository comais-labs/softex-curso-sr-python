{
 "cells": [
  {
   "cell_type": "markdown",
   "metadata": {},
   "source": [
    "# Paralelismo de Experimento"
   ]
  },
  {
   "cell_type": "markdown",
   "metadata": {},
   "source": [
    "O Paralelismo de Experimento refere-se à execução simultânea de vários experimentos de modelagem ou análise de dados. Em vez de executar experimentos sequencialmente, você pode executá-los em paralelo para economizar tempo e acelerar a pesquisa ou o desenvolvimento.\n",
    "\n",
    "Vamos criar um exemplo simples usando o `Joblib` para demonstrar o paralelismo de experimento. Suponha que você tenha vários modelos de aprendizado de máquina e queira treiná-los em diferentes conjuntos de dados ou com diferentes configurações. Usando o `Joblib`, você pode fazer isso em paralelo.\n",
    "\n",
    "### Exemplo: Treinamento Paralelo de Modelos com Joblib\n"
   ]
  },
  {
   "cell_type": "code",
   "execution_count": null,
   "metadata": {},
   "outputs": [],
   "source": [
    "import numpy as np\n",
    "from sklearn.datasets import make_classification\n",
    "from sklearn.ensemble import RandomForestClassifier, GradientBoostingClassifier\n",
    "from sklearn.svm import SVC\n",
    "from sklearn.metrics import accuracy_score\n",
    "from joblib import Parallel, delayed\n",
    "\n",
    "# Gerar um conjunto de dados sintético\n",
    "X, y = make_classification(n_samples=1000, n_features=20, random_state=42)\n",
    "X_train, X_test = X[:800], X[800:]\n",
    "y_train, y_test = y[:800], y[800:]\n",
    "\n",
    "# Definir vários modelos\n",
    "models = {\n",
    "    'Random Forest': RandomForestClassifier(),\n",
    "    'Gradient Boosting': GradientBoostingClassifier(),\n",
    "    'SVM': SVC()\n",
    "}\n",
    "\n",
    "# Função para treinar um modelo e retornar a precisão\n",
    "def train_and_evaluate(model_name, model):\n",
    "    model.fit(X_train, y_train)\n",
    "    y_pred = model.predict(X_test)\n",
    "    accuracy = accuracy_score(y_test, y_pred)\n",
    "    return model_name, accuracy\n",
    "\n",
    "# Treinar modelos em paralelo\n",
    "results = Parallel(n_jobs=-1)(delayed(train_and_evaluate)(name, model) for name, model in models.items())\n",
    "\n",
    "# Exibir resultados\n",
    "for model_name, accuracy in results:\n",
    "    print(f\"{model_name}: Accuracy = {accuracy:.4f}\")\n",
    "\n"
   ]
  },
  {
   "cell_type": "markdown",
   "metadata": {},
   "source": [
    "Neste exemplo:\n",
    "\n",
    "1. Geramos um conjunto de dados sintético e o dividimos em conjuntos de treinamento e teste.\n",
    "2. Definimos vários modelos de aprendizado de máquina.\n",
    "3. Criamos uma função `train_and_evaluate` que treina um modelo e retorna sua precisão no conjunto de teste.\n",
    "4. Usamos o `Joblib` para treinar os modelos em paralelo, passando a função e os modelos para `Parallel` e `delayed`.\n",
    "5. Exibimos a precisão de cada modelo no conjunto de teste.\n",
    "\n",
    "Ao executar este código em um Jupyter Notebook, o `Joblib` treinará os modelos em paralelo, usando todos os núcleos disponíveis na máquina. Isso acelera significativamente o processo de treinamento e avaliação, especialmente quando você tem muitos modelos ou conjuntos de dados para experimentar."
   ]
  },
  {
   "cell_type": "code",
   "execution_count": null,
   "metadata": {},
   "outputs": [],
   "source": [
    "# Para teste em ambiente Apple Silicon.\n",
    "\n",
    "import torch\n",
    "import numpy as np\n",
    "\n",
    "def detect_device():\n",
    "    if torch.backends.mps.is_available():\n",
    "        return \"mps\"\n",
    "    else:\n",
    "        return \"cpu\"\n",
    "\n",
    "device = detect_device()\n",
    "print(f\"Device available: {device}\")\n",
    "\n",
    "X = np.array([[1, 3, 2, 3], [2, 3, 5, 6], [1, 2, 3, 4]], dtype=np.float32)\n",
    "X = torch.IntTensor(X).to(device)\n",
    "X_split = torch.chunk(X, chunks=2, dim=0)\n",
    "print(X_split)\n"
   ]
  }
 ],
 "metadata": {
  "kernelspec": {
   "display_name": "gpuTorch",
   "language": "python",
   "name": "python3"
  },
  "language_info": {
   "codemirror_mode": {
    "name": "ipython",
    "version": 3
   },
   "file_extension": ".py",
   "mimetype": "text/x-python",
   "name": "python",
   "nbconvert_exporter": "python",
   "pygments_lexer": "ipython3",
   "version": "3.11.4"
  },
  "orig_nbformat": 4
 },
 "nbformat": 4,
 "nbformat_minor": 2
}
