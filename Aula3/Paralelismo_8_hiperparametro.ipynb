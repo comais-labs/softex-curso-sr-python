{
 "cells": [
  {
   "cell_type": "markdown",
   "metadata": {},
   "source": [
    "# Paralelismo de Hiperparâmetro"
   ]
  },
  {
   "cell_type": "markdown",
   "metadata": {},
   "source": [
    "O Paralelismo de Hiperparâmetro refere-se à técnica de treinar vários modelos em paralelo com diferentes configurações de hiperparâmetros. Isso é comumente usado em busca de hiperparâmetros para encontrar a melhor configuração de hiperparâmetros para um modelo.\n",
    "\n",
    "Vamos criar um exemplo simples usando o `Scikit-learn` e o `Joblib` para demonstrar o paralelismo de hiperparâmetro.\n",
    "\n",
    "Neste exemplo:\n",
    "\n",
    "1. Geramos um conjunto de dados sintético usando `make_classification`.\n",
    "2. Definimos um modelo de floresta aleatória e um conjunto de hiperparâmetros a serem testados.\n",
    "3. Configuramos a busca de hiperparâmetros usando `GridSearchCV` do Scikit-learn. O argumento `n_jobs=-1` indica que queremos usar todos os núcleos disponíveis na máquina.\n",
    "4. Usamos o `parallel_backend` do Joblib para especificar que queremos usar threading para paralelismo.\n",
    "5. Executamos a busca de hiperparâmetros e exibimos os melhores hiperparâmetros encontrados.\n",
    "\n",
    "Ao executar este código em um Jupyter Notebook, o Scikit-learn e o Joblib trabalharão juntos para treinar modelos em paralelo com diferentes configurações de hiperparâmetros, acelerando significativamente o processo de busca de hiperparâmetros.\n",
    "\n",
    "### Exemplo: Busca de Hiperparâmetros com Paralelismo usando Scikit-learn e Joblib\n"
   ]
  },
  {
   "cell_type": "code",
   "execution_count": null,
   "metadata": {},
   "outputs": [],
   "source": [
    "import numpy as np\n",
    "from sklearn.datasets import make_classification\n",
    "from sklearn.model_selection import GridSearchCV\n",
    "from sklearn.ensemble import RandomForestClassifier\n",
    "from joblib import parallel_backend\n",
    "\n",
    "# Gerar um conjunto de dados sintético\n",
    "X, y = make_classification(n_samples=1000, n_features=20, random_state=42)\n",
    "\n",
    "# Definir o modelo e os hiperparâmetros a serem testados\n",
    "clf = RandomForestClassifier()\n",
    "param_grid = {\n",
    "    'n_estimators': [10, 50, 100],\n",
    "    'max_depth': [None, 10, 20, 30],\n",
    "    'min_samples_split': [2, 5, 10]\n",
    "}\n",
    "\n",
    "# Configurar a busca de hiperparâmetros com paralelismo\n",
    "grid_search = GridSearchCV(clf, param_grid, cv=5, n_jobs=-1)\n",
    "\n",
    "# Executar a busca de hiperparâmetros\n",
    "with parallel_backend('threading', n_jobs=-1):  # Usar todos os núcleos disponíveis\n",
    "    grid_search.fit(X, y)\n",
    "\n",
    "# Exibir os melhores hiperparâmetros encontrados\n",
    "print(\"Best hyperparameters:\", grid_search.best_params_)\n",
    "print(\"Best cross-validation score:\", grid_search.best_score_)\n"
   ]
  }
 ],
 "metadata": {
  "kernelspec": {
   "display_name": "gpuTorch",
   "language": "python",
   "name": "python3"
  },
  "language_info": {
   "codemirror_mode": {
    "name": "ipython",
    "version": 3
   },
   "file_extension": ".py",
   "mimetype": "text/x-python",
   "name": "python",
   "nbconvert_exporter": "python",
   "pygments_lexer": "ipython3",
   "version": "3.11.4"
  },
  "orig_nbformat": 4
 },
 "nbformat": 4,
 "nbformat_minor": 2
}
