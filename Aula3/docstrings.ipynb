{
 "cells": [
  {
   "attachments": {},
   "cell_type": "markdown",
   "metadata": {},
   "source": [
    "# Conceitos Básicos de Comentários"
   ]
  },
  {
   "cell_type": "markdown",
   "metadata": {},
   "source": [
    "\n",
    "A célula a seguir apresenta um conjunto de exemplos de comentários:\n",
    "- Comentário geral sem docstring\n",
    "- Em padrão Docstrings\n",
    "- Utilização do docstring"
   ]
  },
  {
   "cell_type": "code",
   "execution_count": 1,
   "metadata": {},
   "outputs": [],
   "source": [
    "#\n",
    "# Comentários: Local para orientador de uso do código, compartilhamento de informações\n",
    "#              sobre o código, etc.\n",
    "#\n",
    "\n",
    "def fat1(n):\n",
    "#   Entre com fat1(n) para calcular o fatorial de n\n",
    "#   Exemplo: fat1(5) \n",
    "    if (n <= 1):\n",
    "       return 1\n",
    "    return n * fat1(n-1)\n",
    "\n",
    "#\n",
    "# Docstrings: O uso do comando help() retorna a docstring do código\n",
    "#            O uso do comando ? retorna a docstring do código\n",
    "#            O uso do comando ?? retorna a docstring do código e o código fonte\n",
    "#           O uso do comando %pdoc retorna a docstring do código\n",
    "#\n",
    "\n",
    "def fat2(n):\n",
    "    '''\n",
    "    Entre com fat2(n) para calcular o fatorial de n\n",
    "    Exemplo: fat2(5)\n",
    "    '''\n",
    "    if (n <= 1):\n",
    "       return 1\n",
    "    return n * fat1(n-1)\n"
   ]
  },
  {
   "cell_type": "code",
   "execution_count": 2,
   "metadata": {},
   "outputs": [
    {
     "name": "stdout",
     "output_type": "stream",
     "text": [
      "Help on function fat1 in module __main__:\n",
      "\n",
      "fat1(n)\n",
      "\n"
     ]
    }
   ],
   "source": [
    "# fat1 não possui docstring\n",
    "help(fat1)"
   ]
  },
  {
   "cell_type": "code",
   "execution_count": 3,
   "metadata": {},
   "outputs": [
    {
     "name": "stdout",
     "output_type": "stream",
     "text": [
      "Help on function fat2 in module __main__:\n",
      "\n",
      "fat2(n)\n",
      "    Entre com fat2(n) para calcular o fatorial de n\n",
      "    Exemplo: fat2(5)\n",
      "\n"
     ]
    }
   ],
   "source": [
    "# fat2 possui docstring\n",
    "help(fat2)"
   ]
  },
  {
   "cell_type": "code",
   "execution_count": 4,
   "metadata": {},
   "outputs": [
    {
     "name": "stdout",
     "output_type": "stream",
     "text": [
      "\u001b[1;31mSignature:\u001b[0m \u001b[0mfat2\u001b[0m\u001b[1;33m(\u001b[0m\u001b[0mn\u001b[0m\u001b[1;33m)\u001b[0m\u001b[1;33m\u001b[0m\u001b[1;33m\u001b[0m\u001b[0m\n",
      "\u001b[1;31mDocstring:\u001b[0m\n",
      "Entre com fat2(n) para calcular o fatorial de n\n",
      "Exemplo: fat2(5)\n",
      "\u001b[1;31mFile:\u001b[0m      c:\\users\\m\\appdata\\local\\temp\\ipykernel_23448\\3765878016.py\n",
      "\u001b[1;31mType:\u001b[0m      function"
     ]
    }
   ],
   "source": [
    "?fat2"
   ]
  },
  {
   "cell_type": "code",
   "execution_count": 5,
   "metadata": {},
   "outputs": [
    {
     "name": "stdout",
     "output_type": "stream",
     "text": [
      "\u001b[1;31mSignature:\u001b[0m \u001b[0mfat2\u001b[0m\u001b[1;33m(\u001b[0m\u001b[0mn\u001b[0m\u001b[1;33m)\u001b[0m\u001b[1;33m\u001b[0m\u001b[1;33m\u001b[0m\u001b[0m\n",
      "\u001b[1;31mSource:\u001b[0m   \n",
      "\u001b[1;32mdef\u001b[0m \u001b[0mfat2\u001b[0m\u001b[1;33m(\u001b[0m\u001b[0mn\u001b[0m\u001b[1;33m)\u001b[0m\u001b[1;33m:\u001b[0m\u001b[1;33m\n",
      "\u001b[0m    \u001b[1;34m'''\n",
      "    Entre com fat2(n) para calcular o fatorial de n\n",
      "    Exemplo: fat2(5)\n",
      "    '''\u001b[0m\u001b[1;33m\n",
      "\u001b[0m    \u001b[1;32mif\u001b[0m \u001b[1;33m(\u001b[0m\u001b[0mn\u001b[0m \u001b[1;33m<=\u001b[0m \u001b[1;36m1\u001b[0m\u001b[1;33m)\u001b[0m\u001b[1;33m:\u001b[0m\u001b[1;33m\n",
      "\u001b[0m       \u001b[1;32mreturn\u001b[0m \u001b[1;36m1\u001b[0m\u001b[1;33m\n",
      "\u001b[0m    \u001b[1;32mreturn\u001b[0m \u001b[0mn\u001b[0m \u001b[1;33m*\u001b[0m \u001b[0mfat1\u001b[0m\u001b[1;33m(\u001b[0m\u001b[0mn\u001b[0m\u001b[1;33m-\u001b[0m\u001b[1;36m1\u001b[0m\u001b[1;33m)\u001b[0m\u001b[1;33m\u001b[0m\u001b[1;33m\u001b[0m\u001b[0m\n",
      "\u001b[1;31mFile:\u001b[0m      c:\\users\\m\\appdata\\local\\temp\\ipykernel_23448\\3765878016.py\n",
      "\u001b[1;31mType:\u001b[0m      function"
     ]
    }
   ],
   "source": [
    "??fat2"
   ]
  },
  {
   "cell_type": "code",
   "execution_count": 16,
   "metadata": {},
   "outputs": [
    {
     "name": "stdout",
     "output_type": "stream",
     "text": [
      "\u001b[1;31mClass docstring:\u001b[0m\n",
      "    Entre com fat2(n) para calcular o fatorial de n\n",
      "    Exemplo: fat2(5)\n",
      "\u001b[1;31mCall docstring:\u001b[0m\n",
      "    Call self as a function."
     ]
    }
   ],
   "source": [
    "%pdoc fat2"
   ]
  },
  {
   "cell_type": "code",
   "execution_count": 22,
   "metadata": {},
   "outputs": [
    {
     "name": "stdout",
     "output_type": "stream",
     "text": [
      "\n",
      "    Entre com fat2(n) para calcular o fatorial de n\n",
      "    Exemplo: fat2(5)\n",
      "    \n"
     ]
    }
   ],
   "source": [
    "# Outra forma de acessar a docstring \n",
    "print(fat2.__doc__)"
   ]
  },
  {
   "cell_type": "code",
   "execution_count": 19,
   "metadata": {},
   "outputs": [
    {
     "name": "stdout",
     "output_type": "stream",
     "text": [
      "Help on function fat3 in module __main__:\n",
      "\n",
      "fat3(n)\n",
      "    Entre com fat3(n) para calcular o fatorial de n\n",
      "    Exemplo: fat3(5)\n",
      "    Parâmetros:\n",
      "        n: número inteiro\n",
      "    Retorno:\n",
      "        fatorial de n\n",
      "\n"
     ]
    }
   ],
   "source": [
    "# Exemplo de docstring com parâmetros\n",
    "def fat3(n):\n",
    "    '''\n",
    "    Entre com fat3(n) para calcular o fatorial de n\n",
    "    Exemplo: fat3(5)\n",
    "    Parâmetros:\n",
    "        n: número inteiro\n",
    "    Retorno:\n",
    "        fatorial de n\n",
    "    '''\n",
    "    if (n <= 1):\n",
    "       return 1\n",
    "    return n * fat1(n-1)\n",
    "\n",
    "help(fat3)"
   ]
  },
  {
   "cell_type": "code",
   "execution_count": 23,
   "metadata": {},
   "outputs": [],
   "source": [
    "class Person:\n",
    "    \"\"\"\n",
    "    A class to represent a person.\n",
    "\n",
    "    ...\n",
    "\n",
    "    Attributes\n",
    "    ----------\n",
    "    name : str\n",
    "        first name of the person\n",
    "    surname : str\n",
    "        family name of the person\n",
    "    age : int\n",
    "        age of the person\n",
    "\n",
    "    Methods\n",
    "    -------\n",
    "    info(additional=\"\"):\n",
    "        Prints the person's name and age.\n",
    "    \"\"\"\n",
    "\n",
    "    def __init__(self, name, surname, age):\n",
    "        \"\"\"\n",
    "        Constructs all the necessary attributes for the person object.\n",
    "\n",
    "        Parameters\n",
    "        ----------\n",
    "            name : str\n",
    "                first name of the person\n",
    "            surname : str\n",
    "                family name of the person\n",
    "            age : int\n",
    "                age of the person\n",
    "        \"\"\"\n",
    "\n",
    "        self.name = name\n",
    "        self.surname = surname\n",
    "        self.age = age\n",
    "\n",
    "    def info(self, additional=\"\"):\n",
    "        \"\"\"\n",
    "        Prints the person's name and age.\n",
    "\n",
    "        If the argument 'additional' is passed, then it is appended after the main info.\n",
    "\n",
    "        Parameters\n",
    "        ----------\n",
    "        additional : str, optional\n",
    "            More info to be displayed (default is None)\n",
    "\n",
    "        Returns\n",
    "        -------\n",
    "        None\n",
    "        \"\"\"\n",
    "\n",
    "        print(f'My name is {self.name} {self.surname}. I am {self.age} years old.' + additional)"
   ]
  },
  {
   "cell_type": "code",
   "execution_count": 32,
   "metadata": {},
   "outputs": [
    {
     "name": "stdout",
     "output_type": "stream",
     "text": [
      "Help on class Person in module __main__:\n",
      "\n",
      "class Person(builtins.object)\n",
      " |  Person(name, surname, age)\n",
      " |  \n",
      " |  A class to represent a person.\n",
      " |  \n",
      " |  ...\n",
      " |  \n",
      " |  Attributes\n",
      " |  ----------\n",
      " |  name : str\n",
      " |      first name of the person\n",
      " |  surname : str\n",
      " |      family name of the person\n",
      " |  age : int\n",
      " |      age of the person\n",
      " |  \n",
      " |  Methods\n",
      " |  -------\n",
      " |  info(additional=\"\"):\n",
      " |      Prints the person's name and age.\n",
      " |  \n",
      " |  Methods defined here:\n",
      " |  \n",
      " |  __init__(self, name, surname, age)\n",
      " |      Constructs all the necessary attributes for the person object.\n",
      " |      \n",
      " |      Parameters\n",
      " |      ----------\n",
      " |          name : str\n",
      " |              first name of the person\n",
      " |          surname : str\n",
      " |              family name of the person\n",
      " |          age : int\n",
      " |              age of the person\n",
      " |  \n",
      " |  info(self, additional='')\n",
      " |      Prints the person's name and age.\n",
      " |      \n",
      " |      If the argument 'additional' is passed, then it is appended after the main info.\n",
      " |      \n",
      " |      Parameters\n",
      " |      ----------\n",
      " |      additional : str, optional\n",
      " |          More info to be displayed (default is None)\n",
      " |      \n",
      " |      Returns\n",
      " |      -------\n",
      " |      None\n",
      " |  \n",
      " |  ----------------------------------------------------------------------\n",
      " |  Data descriptors defined here:\n",
      " |  \n",
      " |  __dict__\n",
      " |      dictionary for instance variables (if defined)\n",
      " |  \n",
      " |  __weakref__\n",
      " |      list of weak references to the object (if defined)\n",
      "\n"
     ]
    }
   ],
   "source": [
    "# Help da classe Person\n",
    "help(Person)"
   ]
  },
  {
   "cell_type": "code",
   "execution_count": 33,
   "metadata": {},
   "outputs": [
    {
     "name": "stdout",
     "output_type": "stream",
     "text": [
      "Help on function info in module __main__:\n",
      "\n",
      "info(self, additional='')\n",
      "    Prints the person's name and age.\n",
      "    \n",
      "    If the argument 'additional' is passed, then it is appended after the main info.\n",
      "    \n",
      "    Parameters\n",
      "    ----------\n",
      "    additional : str, optional\n",
      "        More info to be displayed (default is None)\n",
      "    \n",
      "    Returns\n",
      "    -------\n",
      "    None\n",
      "\n"
     ]
    }
   ],
   "source": [
    "# Help do método info de Person\n",
    "help(Person.info)"
   ]
  },
  {
   "cell_type": "code",
   "execution_count": null,
   "metadata": {},
   "outputs": [],
   "source": []
  },
  {
   "attachments": {},
   "cell_type": "markdown",
   "metadata": {},
   "source": [
    "# Exemplo do Docstring para Package"
   ]
  },
  {
   "cell_type": "code",
   "execution_count": 35,
   "metadata": {},
   "outputs": [],
   "source": [
    "\"\"\"Spreadsheet Column Printer\n",
    "\n",
    "This script allows the user to print to the console all columns in the\n",
    "spreadsheet. It is assumed that the first row of the spreadsheet is the\n",
    "location of the columns.\n",
    "\n",
    "This tool accepts comma separated value files (.csv) as well as excel\n",
    "(.xls, .xlsx) files.\n",
    "\n",
    "This script requires that `pandas` be installed within the Python\n",
    "environment you are running this script in.\n",
    "\n",
    "This file can also be imported as a module and contains the following\n",
    "functions:\n",
    "\n",
    "    * get_spreadsheet_cols - returns the column headers of the file\n",
    "    * main - the main function of the script\n",
    "\"\"\"\n",
    "\n",
    "import argparse\n",
    "import pandas as pd\n",
    "\n",
    "\n",
    "def get_spreadsheet_cols(file_loc, print_cols=False):\n",
    "    \"\"\"Gets and prints the spreadsheet's header columns\n",
    "\n",
    "    Parameters\n",
    "    ----------\n",
    "    file_loc : str\n",
    "        The file location of the spreadsheet\n",
    "    print_cols : bool, optional\n",
    "        A flag used to print the columns to the console (default is\n",
    "        False)\n",
    "\n",
    "    Returns\n",
    "    -------\n",
    "    list\n",
    "        a list of strings used that are the header columns\n",
    "    \"\"\"\n",
    "\n",
    "    file_data = pd.read_excel(file_loc)\n",
    "    col_headers = list(file_data.columns.values)\n",
    "\n",
    "    if print_cols:\n",
    "        print(\"\\n\".join(col_headers))\n",
    "\n",
    "    return col_headers\n",
    "\n",
    "\n",
    "# def main():\n",
    "#     parser = argparse.ArgumentParser(description=__doc__)\n",
    "#     parser.add_argument(\n",
    "#         'input_file',\n",
    "#         type=str,\n",
    "#         help=\"The spreadsheet file to pring the columns of\"\n",
    "#     )\n",
    "#     args = parser.parse_args()\n",
    "#     get_spreadsheet_cols(args.input_file, print_cols=True)\n",
    "\n",
    "\n",
    "# if __name__ == \"__main__\":\n",
    "#     main()"
   ]
  },
  {
   "cell_type": "code",
   "execution_count": null,
   "metadata": {},
   "outputs": [],
   "source": []
  }
 ],
 "metadata": {
  "kernelspec": {
   "display_name": "Python 3",
   "language": "python",
   "name": "python3"
  },
  "language_info": {
   "codemirror_mode": {
    "name": "ipython",
    "version": 3
   },
   "file_extension": ".py",
   "mimetype": "text/x-python",
   "name": "python",
   "nbconvert_exporter": "python",
   "pygments_lexer": "ipython3",
   "version": "3.10.10"
  },
  "orig_nbformat": 4
 },
 "nbformat": 4,
 "nbformat_minor": 2
}
