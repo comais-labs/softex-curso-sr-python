{
 "cells": [
  {
   "cell_type": "markdown",
   "metadata": {},
   "source": [
    "# Concorrência Assíncrona"
   ]
  },
  {
   "cell_type": "code",
   "execution_count": null,
   "metadata": {},
   "outputs": [],
   "source": [
    "import asyncio\n",
    "import httpx\n",
    "\n",
    "# Função assíncrona para simular a obtenção de dados de uma API\n",
    "async def fetch_data(api_endpoint, session):\n",
    "    print(f\"Buscando dados de {api_endpoint}...\")\n",
    "    response = await session.get(api_endpoint)\n",
    "    data = response.json()\n",
    "    print(f\"Dados obtidos de {api_endpoint}!\")\n",
    "    return data\n",
    "\n",
    "# Função assíncrona principal para buscar dados de múltiplas APIs\n",
    "async def main():\n",
    "    async with httpx.AsyncClient() as session:\n",
    "        # Lista de endpoints fictícios (substitua por URLs reais se necessário)\n",
    "        api_endpoints = [\"http://api.example.com/data1\", \"http://api.example.com/data2\", \"http://api.example.com/data3\"]\n",
    "        \n",
    "        # Usando asyncio.gather para executar várias chamadas assíncronas simultaneamente\n",
    "        results = await asyncio.gather(*(fetch_data(endpoint, session) for endpoint in api_endpoints))\n",
    "    \n",
    "    # Aqui, você pode processar os resultados, treinar modelos, etc.\n",
    "    for i, data in enumerate(results):\n",
    "        print(f\"Resultado da API {i+1}: {data}\")\n",
    "\n",
    "# Executando a função assíncrona principal\n",
    "# await main()  # No Jupyter, você pode usar 'await'. \n",
    "\n",
    "# Em scripts Python padrão, use 'asyncio.run(main())'\n"
   ]
  },
  {
   "cell_type": "markdown",
   "metadata": {},
   "source": [
    "# Concorrência Assíncrona"
   ]
  },
  {
   "cell_type": "code",
   "execution_count": null,
   "metadata": {},
   "outputs": [],
   "source": [
    "import asyncio\n",
    "import numpy as np\n",
    "from sklearn.linear_model import LinearRegression\n",
    "\n",
    "# Função para gerar dados aleatórios\n",
    "def generate_data(n_samples=100):\n",
    "    X = np.random.rand(n_samples, 1) * 10  # Valores entre 0 e 10\n",
    "    y = 2.5 * X + np.random.randn(n_samples, 1) * 2  # Linha reta com algum ruído\n",
    "    return X, y\n",
    "\n",
    "# Função assíncrona para simular coleta de dados\n",
    "async def fetch_data(delay=2):\n",
    "    print(\"Iniciando coleta de dados...\")\n",
    "    await asyncio.sleep(delay)  # Simulando uma operação I/O-bound\n",
    "    data = generate_data()\n",
    "    print(\"Coleta de dados concluída!\")\n",
    "    return data\n",
    "\n",
    "# Função assíncrona para treinar um modelo de regressão linear\n",
    "async def train_model_async(delay=3):\n",
    "    print(\"Iniciando treinamento...\")\n",
    "    X, y = await fetch_data()  # Espera a coleta de dados ser concluída\n",
    "    await asyncio.sleep(delay)  # Simulando uma operação CPU-bound\n",
    "    model = LinearRegression()\n",
    "    model.fit(X, y)\n",
    "    print(f\"Treinamento concluído. Coeficiente: {model.coef_[0][0]:.2f}\")\n",
    "\n",
    "# Executando as tarefas assíncronas\n",
    "async def main():\n",
    "    # Diferentes delays para simular treinamentos de diferentes durações\n",
    "    tasks = [train_model_async(i) for i in [2, 3, 4]]\n",
    "     \n",
    "    # Gather aguarda todas as tarefas serem concluídas antes de continuar\n",
    "    await asyncio.gather(*tasks)\n",
    "    \n",
    "\n",
    "# Rodando o loop assíncrono\n",
    "await(main()) # Jupyter\n",
    "# asyncio.run(main()) # Python padrão\n"
   ]
  },
  {
   "cell_type": "code",
   "execution_count": null,
   "metadata": {},
   "outputs": [],
   "source": []
  }
 ],
 "metadata": {
  "kernelspec": {
   "display_name": "gpuTorch",
   "language": "python",
   "name": "python3"
  },
  "language_info": {
   "codemirror_mode": {
    "name": "ipython",
    "version": 3
   },
   "file_extension": ".py",
   "mimetype": "text/x-python",
   "name": "python",
   "nbconvert_exporter": "python",
   "pygments_lexer": "ipython3",
   "version": "3.11.4"
  },
  "orig_nbformat": 4
 },
 "nbformat": 4,
 "nbformat_minor": 2
}
