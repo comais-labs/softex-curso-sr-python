{
 "cells": [
  {
   "cell_type": "markdown",
   "metadata": {},
   "source": [
    "# Concorrência a Nível de Thread (Multithreading)"
   ]
  },
  {
   "cell_type": "code",
   "execution_count": null,
   "metadata": {},
   "outputs": [],
   "source": [
    "import numpy as np\n",
    "from sklearn.linear_model import LinearRegression\n",
    "import threading\n",
    "import time\n",
    "\n",
    "# Função para gerar dados aleatórios\n",
    "def generate_data(n_samples=100):\n",
    "    X = np.random.rand(n_samples, 1) * 10  # Valores entre 0 e 10\n",
    "    y = 2.5 * X + np.random.randn(n_samples, 1) * 2  # Linha reta com algum ruído\n",
    "    return X, y\n",
    "\n",
    "# Função para treinar um modelo de regressão linear\n",
    "def train_model(thread_id, X, y):\n",
    "    print(f\"Thread-{thread_id} iniciando treinamento...\")\n",
    "    model = LinearRegression()\n",
    "    model.fit(X, y)\n",
    "    time.sleep(2)  # Simulando um treinamento mais longo\n",
    "    print(f\"Thread-{thread_id} finalizou treinamento. Coeficiente: {model.coef_[0][0]:.2f}\")"
   ]
  },
  {
   "cell_type": "code",
   "execution_count": null,
   "metadata": {},
   "outputs": [],
   "source": [
    "%%time\n",
    "# Criando threads para treinar modelos em paralelo\n",
    "threads = []\n",
    "for i in range(20):  # Vamos treinar 4 modelos em paralelo\n",
    "    X, y = generate_data()\n",
    "    thread = threading.Thread(target=train_model, args=(i, X, y))\n",
    "    threads.append(thread)\n",
    "    thread.start()\n",
    "\n",
    "# Aguardando todas as threads finalizarem\n",
    "for thread in threads:\n",
    "    thread.join()\n",
    "\n",
    "print(\"Todos os modelos foram treinados!\")"
   ]
  }
 ],
 "metadata": {
  "kernelspec": {
   "display_name": "gpuTorch",
   "language": "python",
   "name": "python3"
  },
  "language_info": {
   "codemirror_mode": {
    "name": "ipython",
    "version": 3
   },
   "file_extension": ".py",
   "mimetype": "text/x-python",
   "name": "python",
   "nbconvert_exporter": "python",
   "pygments_lexer": "ipython3",
   "version": "3.11.4"
  },
  "orig_nbformat": 4
 },
 "nbformat": 4,
 "nbformat_minor": 2
}
