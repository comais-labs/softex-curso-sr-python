{
 "cells": [
  {
   "attachments": {},
   "cell_type": "markdown",
   "metadata": {},
   "source": [
    "Criar um módulo no Python é bastante simples e envolve basicamente a escrita de um script Python com as funções, classes ou variáveis que você deseja usar em outros scripts.\n",
    "\n",
    "Por exemplo, vamos criar um módulo simples chamado `funcao_ex2.py` com uma função chamada `ola_mundo`:\n",
    "\n",
    "\n",
    "**funcao_ex2.py**\n",
    "```python\n",
    "def ola_mundo(name):\n",
    "    print(\"Hello, \" + name + \"!\")\n",
    "```\n",
    "\n",
    "\n",
    "Para usar a função `ola_mundo` definida em `funcao_ex2.py` em outro script Python, você precisará importar `funcao_ex2`. Suponha que você esteja escrevendo um novo script no mesmo diretório que `funcao_ex2.py`:\n",
    "\n",
    "\n",
    "**main.py**\n",
    "```python\n",
    "import funcao_ex2\n",
    "\n",
    "funcao_ex2.ola_mundo(\"Alice\")  # Imprime: Hello, Alice!\n",
    "```\n",
    "\n",
    "\n",
    "Você também pode importar uma função específica de um módulo usando a sintaxe `from...import...`, assim:\n",
    "\n",
    "\n",
    "```python\n",
    "from funcao_ex2 import ola_mundo\n",
    "\n",
    "ola_mundo(\"Alice\")  # Imprime: Hello, Alice!\n",
    "```\n",
    "\n",
    "\n",
    "Lembre-se de que para importar um módulo, ele deve estar no mesmo diretório que o script Python atual ou em uma pasta que esteja na variável de ambiente PYTHONPATH do seu sistema.\n",
    "\n",
    "Se o módulo estiver em outro diretório, você também pode usar um ponto para representar o caminho do módulo em relação ao script atual. Por exemplo, se `funcao_ex2.py` estiver em uma subpasta chamada `subfolder`, você poderia importá-lo assim:\n",
    "\n",
    "```python\n",
    "from subfolder import funcao_ex2\n",
    "```\n",
    "\n"
   ]
  },
  {
   "attachments": {},
   "cell_type": "markdown",
   "metadata": {},
   "source": []
  }
 ],
 "metadata": {
  "language_info": {
   "name": "python"
  },
  "orig_nbformat": 4
 },
 "nbformat": 4,
 "nbformat_minor": 2
}
